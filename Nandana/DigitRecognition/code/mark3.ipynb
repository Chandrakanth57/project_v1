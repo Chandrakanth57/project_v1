{
 "cells": [
  {
   "cell_type": "markdown",
   "id": "2a7cb634-a3c8-4447-be1f-40a230c47b58",
   "metadata": {},
   "source": [
    "# Improt all the required Libraries"
   ]
  },
  {
   "cell_type": "code",
   "execution_count": 1,
   "id": "79d9d25f-abae-4d9c-81ae-0a9628ed96da",
   "metadata": {},
   "outputs": [],
   "source": [
    "import cv2\n",
    "import numpy as np\n",
    "from skimage.feature import hog\n",
    "from sklearn import svm\n",
    "from sklearn.model_selection import train_test_split\n",
    "from sklearn.metrics import accuracy_score\n",
    "from sklearn.preprocessing import LabelEncoder\n",
    "import os\n"
   ]
  },
  {
   "cell_type": "markdown",
   "id": "dc7d4e71-093f-473d-a16e-167c73461bb5",
   "metadata": {},
   "source": [
    "# load images from the folder to the arrays called images and labels "
   ]
  },
  {
   "cell_type": "code",
   "execution_count": 2,
   "id": "ae76262b-39df-419c-81d4-c6d21c96f3ff",
   "metadata": {},
   "outputs": [],
   "source": [
    "def load_images_from_folder(folder):\n",
    "    images = []\n",
    "    labels = []\n",
    "    for label in os.listdir(folder):\n",
    "        print(label)\n",
    "        label_folder = os.path.join(folder, label)\n",
    "        for filename in os.listdir(label_folder):\n",
    "            img = cv2.imread(os.path.join(label_folder, filename), cv2.IMREAD_GRAYSCALE)\n",
    "            if img is not None:\n",
    "                images.append(img)\n",
    "                labels.append(label)\n",
    "    return images, labels\n"
   ]
  },
  {
   "cell_type": "markdown",
   "id": "ba92273b-6ac7-470c-978c-40dc3c03e1a7",
   "metadata": {},
   "source": [
    "# extract the hog featuers from the image and store it into the list [lists ....]"
   ]
  },
  {
   "cell_type": "code",
   "execution_count": 3,
   "id": "b8cea4cb-1665-4ed1-9546-965c3f4a4ec3",
   "metadata": {},
   "outputs": [],
   "source": [
    "def extract_hog_features(images):\n",
    "    hog_features = []\n",
    "    for image in images:\n",
    "        features, hog_image = hog(image, orientations=9, pixels_per_cell=(8, 8), cells_per_block=(2, 2), visualize=True)\n",
    "        hog_features.append(features)\n",
    "    return np.array(hog_features)\n"
   ]
  },
  {
   "cell_type": "markdown",
   "id": "246bebeb-48c7-4fa6-8e8f-06f2044734ac",
   "metadata": {},
   "source": [
    "# load the dataset and store with train and test split ..."
   ]
  },
  {
   "cell_type": "code",
   "execution_count": 4,
   "id": "35708b22-3153-48d9-95bf-6a0deb228dcb",
   "metadata": {},
   "outputs": [
    {
     "name": "stdout",
     "output_type": "stream",
     "text": [
      "0\n",
      "1\n",
      "2\n",
      "3\n",
      "4\n",
      "5\n",
      "6\n",
      "7\n",
      "8\n",
      "9\n",
      "[0.09156821 0.10746936 0.03075821 0.00178836 0.0292077  0.00474321\n",
      " 0.0004685  0.         0.0016892  0.09866164 0.00267087 0.2962345\n",
      " 0.2962345  0.2962345  0.20427001 0.01353511 0.00582505 0.0040302\n",
      " 0.2962345  0.2962345  0.10124107 0.0013659  0.01531727 0.02090464\n",
      " 0.00286868 0.02683638 0.2733713  0.2962345  0.00975606 0.2962345\n",
      " 0.2962345  0.17900391 0.0918692  0.09877373 0.00505677 0.2962345\n",
      " 0.07029532 0.00190296 0.22819489 0.29145845 0.29145845 0.14554011\n",
      " 0.00964361 0.00415029 0.00287147 0.02207829 0.00644381 0.00618719\n",
      " 0.00803014 0.02769978 0.15764993 0.29145845 0.04027753 0.00448208\n",
      " 0.29145845 0.00695108 0.22155396 0.29145845 0.12753829 0.06545578\n",
      " 0.07037518 0.00360289 0.22535842 0.29145845 0.00105557 0.00250907\n",
      " 0.         0.02085272 0.05809704 0.29145845 0.29145845 0.29145845\n",
      " 0.28723396 0.28723396 0.07801251 0.00105251 0.0118029  0.01610832\n",
      " 0.0022105  0.02067909 0.21064952 0.28723396 0.00751765 0.23961224\n",
      " 0.28723396 0.1379336  0.07079091 0.07611127 0.00389656 0.24372678\n",
      " 0.0577176  0.00342483 0.00344746 0.00494138 0.016109   0.0060714\n",
      " 0.21582118 0.28723396 0.10895234 0.02706085 0.00255272 0.00618565\n",
      " 0.09698542 0.28723396 0.28723396 0.28723396 0.24796748 0.09037152\n",
      " 0.28322503 0.00527019 0.16797823 0.25978998 0.09669724 0.0496274\n",
      " 0.0533572  0.00273165 0.1708627  0.27644915 0.00080032 0.00190233\n",
      " 0.         0.01581015 0.04404813 0.25001952 0.28322503 0.28322503\n",
      " 0.01897079 0.00178956 0.0043364  0.06799085 0.28322503 0.22009633\n",
      " 0.28322503 0.17383561 0.06335423 0.17570465 0.28322503 0.28322503\n",
      " 0.07837402 0.17793455 0.00362359 0.00050616 0.00843597 0.03633461]\n"
     ]
    }
   ],
   "source": [
    "path_location = r\"C:\\Users\\Chandrakanth\\Desktop\\project\\Nandana\\DigitRecognition\\DTAT\\train\"\n",
    "images, labels = load_images_from_folder(path_location)\n",
    "hog_features = extract_hog_features(images)\n",
    "print(hog_features[0])\n",
    "label_encoder = LabelEncoder()\n",
    "labels_encoded = label_encoder.fit_transform(labels)\n",
    "\n",
    "X_train, X_test, y_train, y_test = train_test_split(hog_features, labels_encoded, test_size=0.2, random_state=42)\n"
   ]
  },
  {
   "cell_type": "markdown",
   "id": "af640556-e1d9-4542-ba64-eec20bae3a61",
   "metadata": {},
   "source": [
    "# train the model and evaluate"
   ]
  },
  {
   "cell_type": "code",
   "execution_count": 5,
   "id": "acf30b80-b7dc-455c-9a8a-4e7d75da3ac3",
   "metadata": {},
   "outputs": [
    {
     "name": "stdout",
     "output_type": "stream",
     "text": [
      "Accuracy: 93.17%\n"
     ]
    }
   ],
   "source": [
    "model = svm.SVC(kernel='linear')\n",
    "model.fit(X_train, y_train)\n",
    "\n",
    "y_pred = model.predict(X_test)\n",
    "accuracy = accuracy_score(y_test, y_pred)\n",
    "print(f'Accuracy: {accuracy * 100:.2f}%')\n"
   ]
  },
  {
   "cell_type": "markdown",
   "id": "56eda5d4-bcf6-477d-8144-bae1ecea7a03",
   "metadata": {},
   "source": [
    "# predict new image"
   ]
  },
  {
   "cell_type": "code",
   "execution_count": 23,
   "id": "b9a572d9-a590-4dd1-960b-e343a20bc0d5",
   "metadata": {},
   "outputs": [
    {
     "name": "stdout",
     "output_type": "stream",
     "text": [
      "Predicted Label: 8\n"
     ]
    }
   ],
   "source": [
    "def predict_image(image_path):\n",
    "    new_image = cv2.imread(image_path, cv2.IMREAD_GRAYSCALE)\n",
    "    hog_features1 = extract_hog_features([new_image])\n",
    "    prediction = model.predict(hog_features1)\n",
    "    predicted_label = label_encoder.inverse_transform(prediction)\n",
    "    return predicted_label[0]\n",
    "\n",
    "imp = r\"C:\\Users\\Chandrakanth\\Desktop\\project\\Nandana\\DigitRecognition\\DTAT\\train\\6\\train-00127_png.rf.02b0b078e7fdd128a09d41d299e9c315.jpg\"\n",
    "predicted_label = predict_image(r\"C:\\Users\\Chandrakanth\\Desktop\\project\\Nandana\\DigitRecognition\\DTAT\\train\\8\\train-00629_png.rf.3913f561717e97e0946edf68997d44fa.jpg\")\n",
    "print(f'Predicted Label: {predicted_label}')\n"
   ]
  },
  {
   "cell_type": "code",
   "execution_count": null,
   "id": "3438c881-0225-46fa-8947-a8ce1dcfa016",
   "metadata": {},
   "outputs": [],
   "source": []
  },
  {
   "cell_type": "code",
   "execution_count": null,
   "id": "d1e5af6f-0b01-4bd0-9901-cf7fd7095bc2",
   "metadata": {},
   "outputs": [],
   "source": []
  },
  {
   "cell_type": "markdown",
   "id": "5026cb0e-b078-443e-bec4-326cf66fe7d4",
   "metadata": {},
   "source": [
    "# image to black and white image with only hand as white and rest as black "
   ]
  },
  {
   "cell_type": "code",
   "execution_count": 21,
   "id": "e21ae9bf-624e-4cc7-bedd-bf96b0faa42e",
   "metadata": {},
   "outputs": [
    {
     "data": {
      "text/plain": [
       "True"
      ]
     },
     "execution_count": 21,
     "metadata": {},
     "output_type": "execute_result"
    }
   ],
   "source": [
    "import cv2\n",
    "import numpy as np\n",
    "\n",
    "# Load the image as grayscale\n",
    "image = cv2.imread(r\"C:\\Users\\Chandrakanth\\Desktop\\808.jpg\", cv2.IMREAD_GRAYSCALE)\n",
    "\n",
    "# Create an empty binary image\n",
    "binary_image = np.zeros_like(image)\n",
    "\n",
    "# Set the threshold value\n",
    "threshold_value = 230\n",
    "\n",
    "# Iterate through each pixel\n",
    "for y in range(image.shape[0]):\n",
    "    for x in range(image.shape[1]):\n",
    "        # Set to white if pixel value is above the threshold\n",
    "        if image[y, x] > threshold_value:\n",
    "            binary_image[y, x] = 255\n",
    "\n",
    "# Invert the binary image to get white hand on black background\n",
    "result = cv2.bitwise_not(binary_image)\n",
    "\n",
    "# Resize the result to 50x50 pixels\n",
    "resized_result = cv2.resize(result, (28, 28))\n",
    "\n",
    "# Save the resized result\n",
    "cv2.imwrite('hand_white_on_black.png', resized_result)\n"
   ]
  },
  {
   "cell_type": "code",
   "execution_count": 1,
   "id": "d2ee5a93-f8b9-45dc-9c1b-e8b7733a26bf",
   "metadata": {},
   "outputs": [],
   "source": [
    "import os"
   ]
  },
  {
   "cell_type": "markdown",
   "id": "84c9d9a7-4ebf-4c42-b603-a909d70ec431",
   "metadata": {},
   "source": [
    "# Save the model in the folder as a pkl folrmat file"
   ]
  },
  {
   "cell_type": "code",
   "execution_count": 17,
   "id": "349f48bf-3785-450d-8030-a986a8c8b897",
   "metadata": {},
   "outputs": [
    {
     "data": {
      "text/plain": [
       "['C:\\\\Users\\\\Chandrakanth\\\\Desktop\\\\project\\\\vaishnavi\\\\hand gesture\\\\WebAppHandGestureRecognition\\\\svm_model.pkl']"
      ]
     },
     "execution_count": 17,
     "metadata": {},
     "output_type": "execute_result"
    }
   ],
   "source": [
    "import joblib\n",
    "\n",
    "# Save the model to a file\n",
    "joblib_file = r\"C:\\Users\\Chandrakanth\\Desktop\\project\\vaishnavi\\hand gesture\\WebAppHandGestureRecognition\\svm_model.pkl\"\n",
    "joblib.dump(model, joblib_file)\n"
   ]
  },
  {
   "cell_type": "code",
   "execution_count": null,
   "id": "b52fd127-17a2-42c7-bdfc-a434bea181a3",
   "metadata": {},
   "outputs": [],
   "source": []
  }
 ],
 "metadata": {
  "kernelspec": {
   "display_name": "Python 3 (ipykernel)",
   "language": "python",
   "name": "python3"
  },
  "language_info": {
   "codemirror_mode": {
    "name": "ipython",
    "version": 3
   },
   "file_extension": ".py",
   "mimetype": "text/x-python",
   "name": "python",
   "nbconvert_exporter": "python",
   "pygments_lexer": "ipython3",
   "version": "3.11.7"
  }
 },
 "nbformat": 4,
 "nbformat_minor": 5
}
