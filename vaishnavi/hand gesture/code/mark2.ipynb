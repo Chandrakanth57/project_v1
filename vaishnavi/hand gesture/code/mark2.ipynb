{
 "cells": [
  {
   "cell_type": "code",
   "execution_count": 18,
   "id": "4032ef86-3269-46bc-928c-d05ff89c4bfe",
   "metadata": {},
   "outputs": [
    {
     "name": "stdout",
     "output_type": "stream",
     "text": [
      "Accuracy: 100.00%\n",
      "Predicted Label: 3\n"
     ]
    }
   ],
   "source": [
    "import cv2\n",
    "import numpy as np\n",
    "from skimage.feature import hog\n",
    "from sklearn import svm\n",
    "from sklearn.model_selection import train_test_split\n",
    "from sklearn.metrics import accuracy_score\n",
    "from sklearn.preprocessing import LabelEncoder\n",
    "import os\n",
    "\n",
    "def load_images_from_folder(folder):\n",
    "    images = []\n",
    "    labels = []\n",
    "    for label in os.listdir(folder):\n",
    "        label_folder = os.path.join(folder, label)\n",
    "        for filename in os.listdir(label_folder):\n",
    "            img = cv2.imread(os.path.join(label_folder, filename), cv2.IMREAD_GRAYSCALE)\n",
    "            if img is not None:\n",
    "                images.append(img)\n",
    "                labels.append(label)\n",
    "    return images, labels\n",
    "\n",
    "def extract_hog_features(images):\n",
    "    hog_features = []\n",
    "    for image in images:\n",
    "        features, hog_image = hog(image, orientations=9, pixels_per_cell=(8, 8), cells_per_block=(2, 2), visualize=True)\n",
    "        hog_features.append(features)\n",
    "    return np.array(hog_features)\n",
    "\n",
    "path_location = r\"C:\\Users\\Chandrakanth\\Desktop\\project\\vaishnavi\\hand gesture\\dataset\\train\\train\"\n",
    "images, labels = load_images_from_folder(path_location)\n",
    "\n",
    "hog_features = extract_hog_features(images)\n",
    "\n",
    "label_encoder = LabelEncoder()\n",
    "labels_encoded = label_encoder.fit_transform(labels)\n",
    "\n",
    "X_train, X_test, y_train, y_test = train_test_split(hog_features, labels_encoded, test_size=0.2, random_state=42)\n",
    "\n",
    "model = svm.SVC(kernel='linear')\n",
    "model.fit(X_train, y_train)\n",
    "\n",
    "y_pred = model.predict(X_test)\n",
    "accuracy = accuracy_score(y_test, y_pred)\n",
    "print(f'Accuracy: {accuracy * 100:.2f}%')\n",
    "\n",
    "def predict_image(image_path):\n",
    "    new_image = cv2.imread(image_path, cv2.IMREAD_GRAYSCALE)\n",
    "    hog_features1 = extract_hog_features([new_image])\n",
    "    prediction = model.predict(hog_features1)\n",
    "    predicted_label = label_encoder.inverse_transform(prediction)\n",
    "    return predicted_label[0]\n",
    "\n",
    "imp = r\"C:\\Users\\Chandrakanth\\Desktop\\project\\vaishnavi\\hand gesture\\dataset\\test\\3\\901.jpg\"\n",
    "predicted_label = predict_image(imp)\n",
    "print(f'Predicted Label: {predicted_label}')\n"
   ]
  },
  {
   "cell_type": "code",
   "execution_count": 17,
   "id": "a6407a84-032e-4344-8aed-cd7b4680416d",
   "metadata": {},
   "outputs": [
    {
     "name": "stdout",
     "output_type": "stream",
     "text": [
      "Predicted Label: 0\n",
      "Predicted Label: 1\n",
      "Predicted Label: 2\n"
     ]
    }
   ],
   "source": [
    "for i in range(3):\n",
    "    imp = r\"C:\\Users\\Chandrakanth\\Desktop\\project\\vaishnavi\\hand gesture\\dataset\\test\\\\\" +str(i)+ r\"\\1056.jpg\"\n",
    "    # r\"he;;p\"+value+\"wor;d\"\n",
    "    predicted_label = predict_image(imp)\n",
    "    print(f'Predicted Label: {predicted_label}')"
   ]
  },
  {
   "cell_type": "code",
   "execution_count": 16,
   "id": "4f0e3f9f-032b-419f-9d0d-2229e88be9b5",
   "metadata": {},
   "outputs": [
    {
     "name": "stdout",
     "output_type": "stream",
     "text": [
      "Predicted Label: 6\n"
     ]
    }
   ],
   "source": [
    "sample_2 = r\"C:\\Users\\Chandrakanth\\Desktop\\Udemy\\ml_project\\dog_class\\sample\\hand_white_on_black.png\"\n",
    "predicted_label = predict_image(sample_2)\n",
    "print(f'Predicted Label: {predicted_label}')\n",
    "\n"
   ]
  },
  {
   "cell_type": "code",
   "execution_count": null,
   "id": "74e2ca27-de1d-4df6-afbb-95feedfc2e65",
   "metadata": {},
   "outputs": [],
   "source": []
  }
 ],
 "metadata": {
  "kernelspec": {
   "display_name": "Python 3 (ipykernel)",
   "language": "python",
   "name": "python3"
  },
  "language_info": {
   "codemirror_mode": {
    "name": "ipython",
    "version": 3
   },
   "file_extension": ".py",
   "mimetype": "text/x-python",
   "name": "python",
   "nbconvert_exporter": "python",
   "pygments_lexer": "ipython3",
   "version": "3.11.7"
  }
 },
 "nbformat": 4,
 "nbformat_minor": 5
}
