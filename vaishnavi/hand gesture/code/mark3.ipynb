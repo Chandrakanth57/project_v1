{
 "cells": [
  {
   "cell_type": "markdown",
   "id": "2a7cb634-a3c8-4447-be1f-40a230c47b58",
   "metadata": {},
   "source": [
    "# Improt all the required Libraries"
   ]
  },
  {
   "cell_type": "code",
   "execution_count": 4,
   "id": "79d9d25f-abae-4d9c-81ae-0a9628ed96da",
   "metadata": {},
   "outputs": [],
   "source": [
    "import cv2\n",
    "import numpy as np\n",
    "from skimage.feature import hog\n",
    "from sklearn import svm\n",
    "from sklearn.model_selection import train_test_split\n",
    "from sklearn.metrics import accuracy_score\n",
    "from sklearn.preprocessing import LabelEncoder\n",
    "import os\n"
   ]
  },
  {
   "cell_type": "markdown",
   "id": "dc7d4e71-093f-473d-a16e-167c73461bb5",
   "metadata": {},
   "source": [
    "# load images from the folder to the arrays called images and labels "
   ]
  },
  {
   "cell_type": "code",
   "execution_count": 9,
   "id": "ae76262b-39df-419c-81d4-c6d21c96f3ff",
   "metadata": {},
   "outputs": [],
   "source": [
    "def load_images_from_folder(folder):\n",
    "    images = []\n",
    "    labels = []\n",
    "    for label in os.listdir(folder):\n",
    "        print(label)\n",
    "        label_folder = os.path.join(folder, label)\n",
    "        for filename in os.listdir(label_folder):\n",
    "            img = cv2.imread(os.path.join(label_folder, filename), cv2.IMREAD_GRAYSCALE)\n",
    "            if img is not None:\n",
    "                images.append(img)\n",
    "                labels.append(label)\n",
    "    return images, labels\n"
   ]
  },
  {
   "cell_type": "markdown",
   "id": "ba92273b-6ac7-470c-978c-40dc3c03e1a7",
   "metadata": {},
   "source": [
    "# extract the hog featuers from the image and store it into the list [lists ....]"
   ]
  },
  {
   "cell_type": "code",
   "execution_count": 10,
   "id": "b8cea4cb-1665-4ed1-9546-965c3f4a4ec3",
   "metadata": {},
   "outputs": [],
   "source": [
    "def extract_hog_features(images):\n",
    "    hog_features = []\n",
    "    for image in images:\n",
    "        features, hog_image = hog(image, orientations=9, pixels_per_cell=(8, 8), cells_per_block=(2, 2), visualize=True)\n",
    "        hog_features.append(features)\n",
    "    return np.array(hog_features)\n"
   ]
  },
  {
   "cell_type": "markdown",
   "id": "246bebeb-48c7-4fa6-8e8f-06f2044734ac",
   "metadata": {},
   "source": [
    "# load the dataset and store with train and test split ..."
   ]
  },
  {
   "cell_type": "code",
   "execution_count": 11,
   "id": "35708b22-3153-48d9-95bf-6a0deb228dcb",
   "metadata": {},
   "outputs": [
    {
     "name": "stdout",
     "output_type": "stream",
     "text": [
      "0\n",
      "1\n",
      "10\n",
      "11\n",
      "12\n",
      "13\n",
      "14\n",
      "15\n",
      "16\n",
      "17\n",
      "18\n",
      "19\n",
      "2\n",
      "3\n",
      "4\n",
      "5\n",
      "6\n",
      "7\n",
      "8\n",
      "9\n",
      "[0.09626786 0.05887441 0.33450878 0.20320564 0.19622077 0.00079337\n",
      " 0.00278459 0.00445277 0.         0.22073366 0.00349744 0.33450878\n",
      " 0.09932103 0.14105798 0.00621086 0.00250886 0.         0.00146291\n",
      " 0.33450878 0.00270407 0.25590518 0.00416697 0.06812295 0.00079337\n",
      " 0.00200709 0.         0.19875461 0.18259656 0.12044077 0.33450878\n",
      " 0.00238012 0.33450878 0.00079337 0.33450878 0.00238012 0.001122\n",
      " 0.22445593 0.00355642 0.33373574 0.1009959  0.14343667 0.00631559\n",
      " 0.00255117 0.         0.00148758 0.16127323 0.0016135  0.\n",
      " 0.00080675 0.26093056 0.29416014 0.33373574 0.00322701 0.\n",
      " 0.18567572 0.12247179 0.33373574 0.00242025 0.33373574 0.00080675\n",
      " 0.33373574 0.00242025 0.00114092 0.10326219 0.         0.0015307\n",
      " 0.00114092 0.01334924 0.00308859 0.33373574 0.09759541 0.00114092\n",
      " 0.20136855 0.00201465 0.         0.00100732 0.32580242 0.36729346\n",
      " 0.39328296 0.0040293  0.         0.01229176 0.         0.00289844\n",
      " 0.00503662 0.39328296 0.26017762 0.39328296 0.00100732 0.00284914\n",
      " 0.12893497 0.         0.00191126 0.00142457 0.01666809 0.00385647\n",
      " 0.39328296 0.12185932 0.00142457 0.00540587 0.         0.\n",
      " 0.         0.00135147 0.         0.         0.         0.\n",
      " 0.01417792 0.         0.0033432  0.00580948 0.39639257 0.3001016\n",
      " 0.39639257 0.0011619  0.00328634 0.00207846 0.         0.\n",
      " 0.         0.00155885 0.         0.18738622 0.         0.\n",
      " 0.00623539 0.         0.         0.         0.00155885 0.\n",
      " 0.         0.         0.         0.39639257 0.0041973  0.0066864\n",
      " 0.00232379 0.01195117 0.00232379 0.39639257 0.2977717  0.39639257\n",
      " 0.00389175 0.         0.         0.         0.00291881 0.\n",
      " 0.350865   0.         0.         0.         0.         0.\n",
      " 0.         0.         0.         0.         0.         0.\n",
      " 0.46798405 0.00785908 0.01251972 0.00435111 0.02237756 0.00435111\n",
      " 0.46798405 0.46798405 0.46798405 0.00875644 0.         0.\n",
      " 0.         0.         0.         0.         0.         0.\n",
      " 0.30351786 0.00258046 0.24420758 0.0039765  0.065009   0.00075711\n",
      " 0.00191535 0.         0.1896694  0.17424994 0.11493534 0.30351786\n",
      " 0.00227132 0.30351786 0.00075711 0.30351786 0.00227132 0.00107071\n",
      " 0.30351786 0.20338885 0.1228218  0.         0.16997146 0.00075711\n",
      " 0.30351786 0.20131514 0.26354038 0.06847786 0.         0.\n",
      " 0.09816809 0.04503822 0.00182782 0.30351786 0.0012208  0.00214142\n",
      " 0.18668871 0.12313996 0.33578467 0.00243346 0.33578467 0.00081115\n",
      " 0.33578467 0.00243346 0.00114714 0.10382556 0.         0.00153905\n",
      " 0.00114714 0.01342207 0.00310544 0.33578467 0.09812786 0.00114714\n",
      " 0.07336612 0.         0.         0.10517578 0.04825326 0.0019583\n",
      " 0.33578467 0.00130794 0.00229429 0.24168744 0.20559755 0.33578467\n",
      " 0.00310544 0.04137148 0.00149569 0.26011495 0.11001594 0.22782605\n",
      " 0.18128613 0.         0.00268729 0.00200299 0.0234358  0.0054223\n",
      " 0.39142016 0.17133757 0.00200299 0.0076008  0.         0.\n",
      " 0.         0.0019002  0.         0.         0.         0.\n",
      " 0.39142016 0.35898657 0.39142016 0.0054223  0.07223727 0.00261157\n",
      " 0.39142016 0.19209492 0.39142016 0.0069674  0.         0.\n",
      " 0.         0.         0.         0.         0.         0.\n",
      " 0.00631689 0.         0.         0.         0.00157922 0.\n",
      " 0.         0.         0.         0.36467122 0.00425216 0.00677379\n",
      " 0.00235417 0.01210738 0.00235417 0.36467122 0.30166385 0.36467122\n",
      " 0.00579049 0.         0.         0.         0.         0.\n",
      " 0.         0.         0.         0.36467122 0.00117708 0.00148891\n",
      " 0.00401188 0.01105456 0.00235417 0.36467122 0.33263089 0.36467122\n",
      " 0.36467867 0.00425227 0.00677398 0.00235423 0.01210771 0.00235423\n",
      " 0.36467867 0.30167199 0.36467867 0.0047378  0.         0.\n",
      " 0.         0.         0.         0.         0.         0.\n",
      " 0.36467867 0.00117712 0.00148895 0.00401198 0.01105486 0.00235423\n",
      " 0.36467867 0.33263987 0.36467867 0.00263211 0.         0.\n",
      " 0.         0.00157927 0.         0.00074447 0.         0.\n",
      " 0.30384259 0.20358418 0.12293976 0.         0.17013469 0.00075783\n",
      " 0.30384259 0.20150848 0.26379347 0.06854362 0.         0.\n",
      " 0.09826236 0.04508147 0.00182957 0.30384259 0.00122197 0.00214348\n",
      " 0.16172861 0.09786629 0.1239228  0.00075783 0.29729184 0.0922934\n",
      " 0.30384259 0.10009495 0.09057624 0.00920567 0.00442859 0.24854196\n",
      " 0.00355259 0.30384259 0.28791423 0.12365847 0.0024524  0.00246912\n",
      " 0.0949977  0.         0.         0.13618624 0.06248045 0.00253569\n",
      " 0.33042725 0.00169358 0.00297074 0.31294757 0.26621678 0.33042725\n",
      " 0.00402106 0.05356962 0.00193669 0.33042725 0.1424535  0.29499923\n",
      " 0.01275855 0.00613779 0.33042725 0.00492369 0.33042725 0.33042725\n",
      " 0.17138385 0.0033989  0.00342206 0.00328801 0.         0.\n",
      " 0.         0.06904997 0.         0.         0.         0.\n",
      " 0.42585831 0.42585831 0.42585831 0.00733794 0.097758   0.00353422\n",
      " 0.42585831 0.25996021 0.42585831 0.00942891 0.         0.\n",
      " 0.         0.         0.         0.         0.         0.\n",
      " 0.00600022 0.         0.         0.         0.12600775 0.\n",
      " 0.         0.         0.         0.00428587 0.         0.\n",
      " 0.         0.         0.         0.         0.         0.\n",
      " 0.00722492 0.         0.         0.         0.         0.\n",
      " 0.         0.         0.         0.37627312 0.00146867 0.00185774\n",
      " 0.00500571 0.01379304 0.00293735 0.37627312 0.37627312 0.37627312\n",
      " 0.00328406 0.         0.         0.         0.         0.\n",
      " 0.         0.         0.         0.34548807 0.00293735 0.0065021\n",
      " 0.00293735 0.01510666 0.00915975 0.37627312 0.37627312 0.17459971\n",
      " 0.33194946 0.00116513 0.00147379 0.00397114 0.01094231 0.00233026\n",
      " 0.33194946 0.32925314 0.33194946 0.00260531 0.         0.\n",
      " 0.         0.00156319 0.         0.00073689 0.         0.\n",
      " 0.27408306 0.00233026 0.00515825 0.00233026 0.01198443 0.00726662\n",
      " 0.33194946 0.29938133 0.13851368 0.33194946 0.00725283 0.00523122\n",
      " 0.00496127 0.008337   0.00863853 0.33194946 0.16668899 0.13450234\n",
      " 0.18145137 0.10980106 0.13903515 0.00085025 0.33354649 0.10354856\n",
      " 0.36727338 0.11230149 0.10162198 0.0103283  0.00496866 0.27885158\n",
      " 0.00398583 0.36727338 0.32302528 0.13873858 0.00275147 0.00277022\n",
      " 0.0034222  0.         0.         0.         0.06236004 0.\n",
      " 0.         0.         0.         0.0069061  0.0017005  0.00215099\n",
      " 0.00240488 0.36727338 0.21382602 0.36727338 0.00412246 0.\n",
      " 0.01218847 0.00586353 0.32907398 0.00470369 0.39281284 0.38120355\n",
      " 0.16372601 0.00324702 0.00326915 0.00314109 0.         0.\n",
      " 0.         0.06596465 0.         0.         0.         0.\n",
      " 0.00814992 0.00200677 0.00253839 0.002838   0.39281284 0.25233703\n",
      " 0.39281284 0.00486494 0.         0.01039356 0.01206147 0.0047909\n",
      " 0.00903047 0.1301346  0.12929483 0.39281284 0.         0.\n",
      " 0.01127074 0.         0.         0.         0.23669151 0.\n",
      " 0.         0.         0.         0.00805053 0.         0.\n",
      " 0.         0.         0.         0.         0.         0.\n",
      " 0.03729371 0.04327845 0.01719048 0.03240275 0.46694333 0.46393013\n",
      " 0.71115417 0.         0.         0.00644042 0.         0.\n",
      " 0.         0.01127074 0.         0.         0.         0.\n",
      " 0.00920537 0.         0.         0.         0.         0.\n",
      " 0.         0.         0.         0.50234261 0.00823354 0.01822571\n",
      " 0.00823354 0.04234472 0.02567524 0.50234261 0.50234261 0.48941173\n",
      " 0.0073643  0.         0.         0.         0.01288752 0.\n",
      " 0.         0.         0.         0.01104645 0.         0.\n",
      " 0.         0.00920537 0.         0.         0.         0.\n",
      " 0.26294481 0.00223556 0.00494863 0.00223556 0.01149741 0.00697132\n",
      " 0.34932356 0.287215   0.13288473 0.34932356 0.00695808 0.00501863\n",
      " 0.00475965 0.0079982  0.00828747 0.34932356 0.15991504 0.1290364\n",
      " 0.00299932 0.         0.         0.         0.00249944 0.\n",
      " 0.         0.         0.         0.30660071 0.00335335 0.0071296\n",
      " 0.         0.01049763 0.00475965 0.34932356 0.28929724 0.34932356\n",
      " 0.00800016 0.         0.         0.         0.14578068 0.\n",
      " 0.         0.         0.         0.01614457 0.00397531 0.00502842\n",
      " 0.00562194 0.60345344 0.49986663 0.60345344 0.00963719 0.\n",
      " 0.         0.         0.         0.         0.         0.\n",
      " 0.         0.         0.         0.00711125 0.         0.\n",
      " 0.         0.00533344 0.         0.         0.         0.\n",
      " 0.00886321 0.00218241 0.00276055 0.00308639 0.42529792 0.27442185\n",
      " 0.42529792 0.00529072 0.         0.01130321 0.01311711 0.0052102\n",
      " 0.00982083 0.14152412 0.14061086 0.42529792 0.         0.\n",
      " 0.00390401 0.         0.         0.         0.00292801 0.\n",
      " 0.         0.         0.         0.01366403 0.00503312 0.\n",
      " 0.00545602 0.37919224 0.12944331 0.42529792 0.00436481 0.\n",
      " 0.01108951 0.01286911 0.0051117  0.00963516 0.13884844 0.13795245\n",
      " 0.41862679 0.         0.         0.0019151  0.         0.\n",
      " 0.         0.00335142 0.         0.         0.         0.\n",
      " 0.01340569 0.00493797 0.         0.00535286 0.37202316 0.12699603\n",
      " 0.41862679 0.00428229 0.         0.37297118 0.00214115 0.00541672\n",
      " 0.00472574 0.37625247 0.         0.41862679 0.00321172 0.00151402\n",
      " 0.00338674 0.         0.         0.         0.0059268  0.\n",
      " 0.         0.         0.         0.00508011 0.         0.\n",
      " 0.         0.00423343 0.         0.         0.         0.\n",
      " 0.57723221 0.00378649 0.00957915 0.00835719 0.57723221 0.\n",
      " 0.57723221 0.00567974 0.00267745 0.01016022 0.         0.\n",
      " 0.         0.         0.         0.         0.         0.\n",
      " 0.00378677 0.         0.         0.         0.00315565 0.\n",
      " 0.         0.         0.         0.38709649 0.00423374 0.00900142\n",
      " 0.         0.01325371 0.00600926 0.4109318  0.36525012 0.4109318\n",
      " 0.00757355 0.         0.         0.         0.         0.\n",
      " 0.         0.         0.         0.4109318  0.00423374 0.00267765\n",
      " 0.00423374 0.01830274 0.         0.4109318  0.19050527 0.06500936]\n"
     ]
    }
   ],
   "source": [
    "path_location = r\"C:\\Users\\Chandrakanth\\Desktop\\project\\vaishnavi\\hand gesture\\dataset\\test\"\n",
    "images, labels = load_images_from_folder(path_location)\n",
    "hog_features = extract_hog_features(images)\n",
    "print(hog_features[0])\n",
    "label_encoder = LabelEncoder()\n",
    "labels_encoded = label_encoder.fit_transform(labels)\n",
    "\n",
    "X_train, X_test, y_train, y_test = train_test_split(hog_features, labels_encoded, test_size=0.2, random_state=42)\n"
   ]
  },
  {
   "cell_type": "markdown",
   "id": "af640556-e1d9-4542-ba64-eec20bae3a61",
   "metadata": {},
   "source": [
    "# train the model and evaluate"
   ]
  },
  {
   "cell_type": "code",
   "execution_count": 12,
   "id": "acf30b80-b7dc-455c-9a8a-4e7d75da3ac3",
   "metadata": {},
   "outputs": [
    {
     "name": "stdout",
     "output_type": "stream",
     "text": [
      "Accuracy: 100.00%\n"
     ]
    }
   ],
   "source": [
    "model = svm.SVC(kernel='linear')\n",
    "model.fit(X_train, y_train)\n",
    "\n",
    "y_pred = model.predict(X_test)\n",
    "accuracy = accuracy_score(y_test, y_pred)\n",
    "print(f'Accuracy: {accuracy * 100:.2f}%')\n"
   ]
  },
  {
   "cell_type": "markdown",
   "id": "56eda5d4-bcf6-477d-8144-bae1ecea7a03",
   "metadata": {},
   "source": [
    "# predict new image"
   ]
  },
  {
   "cell_type": "code",
   "execution_count": 15,
   "id": "b9a572d9-a590-4dd1-960b-e343a20bc0d5",
   "metadata": {},
   "outputs": [
    {
     "name": "stdout",
     "output_type": "stream",
     "text": [
      "['13']\n",
      "Predicted Label: 13\n"
     ]
    }
   ],
   "source": [
    "def predict_image(image_path):\n",
    "    new_image = cv2.imread(image_path, cv2.IMREAD_GRAYSCALE)\n",
    "    hog_features1 = extract_hog_features([new_image])\n",
    "    prediction = model.predict(hog_features1)\n",
    "    predicted_label = label_encoder.inverse_transform(prediction)\n",
    "    return predicted_label[0]\n",
    "\n",
    "imp = r\"C:\\Users\\Chandrakanth\\Desktop\\project\\vaishnavi\\hand gesture\\dataset\\test\\13\\919.jpg\"\n",
    "predicted_label = predict_image(imp)\n",
    "print(f'Predicted Label: {predicted_label}')\n"
   ]
  },
  {
   "cell_type": "code",
   "execution_count": null,
   "id": "3438c881-0225-46fa-8947-a8ce1dcfa016",
   "metadata": {},
   "outputs": [],
   "source": []
  },
  {
   "cell_type": "code",
   "execution_count": null,
   "id": "d1e5af6f-0b01-4bd0-9901-cf7fd7095bc2",
   "metadata": {},
   "outputs": [],
   "source": []
  },
  {
   "cell_type": "markdown",
   "id": "5026cb0e-b078-443e-bec4-326cf66fe7d4",
   "metadata": {},
   "source": [
    "# image to black and white image with only hand as white and rest as black "
   ]
  },
  {
   "cell_type": "code",
   "execution_count": null,
   "id": "e21ae9bf-624e-4cc7-bedd-bf96b0faa42e",
   "metadata": {},
   "outputs": [],
   "source": [
    "import cv2\n",
    "import numpy as np\n",
    "\n",
    "# Load the image as grayscale\n",
    "image = cv2.imread('1.jpg', cv2.IMREAD_GRAYSCALE)\n",
    "\n",
    "# Create an empty binary image\n",
    "binary_image = np.zeros_like(image)\n",
    "\n",
    "# Set the threshold value\n",
    "threshold_value = 250\n",
    "\n",
    "# Iterate through each pixel\n",
    "for y in range(image.shape[0]):\n",
    "    for x in range(image.shape[1]):\n",
    "        # Set to white if pixel value is above the threshold\n",
    "        if image[y, x] > threshold_value:\n",
    "            binary_image[y, x] = 255\n",
    "\n",
    "# Invert the binary image to get white hand on black background\n",
    "result = cv2.bitwise_not(binary_image)\n",
    "\n",
    "# Resize the result to 50x50 pixels\n",
    "resized_result = cv2.resize(result, (50, 50))\n",
    "\n",
    "# Save the resized result\n",
    "cv2.imwrite('hand_white_on_black.png', resized_result)\n"
   ]
  },
  {
   "cell_type": "code",
   "execution_count": 1,
   "id": "d2ee5a93-f8b9-45dc-9c1b-e8b7733a26bf",
   "metadata": {},
   "outputs": [],
   "source": [
    "import os"
   ]
  },
  {
   "cell_type": "markdown",
   "id": "84c9d9a7-4ebf-4c42-b603-a909d70ec431",
   "metadata": {},
   "source": [
    "# Save the model in the folder as a pkl folrmat file"
   ]
  },
  {
   "cell_type": "code",
   "execution_count": 17,
   "id": "349f48bf-3785-450d-8030-a986a8c8b897",
   "metadata": {},
   "outputs": [
    {
     "data": {
      "text/plain": [
       "['C:\\\\Users\\\\Chandrakanth\\\\Desktop\\\\project\\\\vaishnavi\\\\hand gesture\\\\WebAppHandGestureRecognition\\\\svm_model.pkl']"
      ]
     },
     "execution_count": 17,
     "metadata": {},
     "output_type": "execute_result"
    }
   ],
   "source": [
    "import joblib\n",
    "\n",
    "# Save the model to a file\n",
    "joblib_file = r\"C:\\Users\\Chandrakanth\\Desktop\\project\\vaishnavi\\hand gesture\\WebAppHandGestureRecognition\\svm_model.pkl\"\n",
    "joblib.dump(model, joblib_file)\n"
   ]
  },
  {
   "cell_type": "code",
   "execution_count": null,
   "id": "b52fd127-17a2-42c7-bdfc-a434bea181a3",
   "metadata": {},
   "outputs": [],
   "source": []
  }
 ],
 "metadata": {
  "kernelspec": {
   "display_name": "Python 3 (ipykernel)",
   "language": "python",
   "name": "python3"
  },
  "language_info": {
   "codemirror_mode": {
    "name": "ipython",
    "version": 3
   },
   "file_extension": ".py",
   "mimetype": "text/x-python",
   "name": "python",
   "nbconvert_exporter": "python",
   "pygments_lexer": "ipython3",
   "version": "3.11.7"
  }
 },
 "nbformat": 4,
 "nbformat_minor": 5
}
